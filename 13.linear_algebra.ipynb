{
 "cells": [
  {
   "cell_type": "markdown",
   "metadata": {},
   "source": [
    "# 1.Perform the following operations on the given matrices:"
   ]
  },
  {
   "cell_type": "code",
   "execution_count": 3,
   "metadata": {},
   "outputs": [
    {
     "name": "stdout",
     "output_type": "stream",
     "text": [
      "[[ 2 -1]\n",
      " [ 0  3]]\n",
      "[[ 1  2]\n",
      " [-3  4]]\n"
     ]
    }
   ],
   "source": [
    "import numpy as np\n",
    "A = np.array([[2,-1], [0,3]])     \n",
    "B=np.array([[1,2],[-3,4]])             # representation of metrices using numpy\n",
    "print(A) \n",
    "\n",
    "print(B)"
   ]
  },
  {
   "cell_type": "markdown",
   "metadata": {},
   "source": [
    "##### a.A+B\n"
   ]
  },
  {
   "cell_type": "code",
   "execution_count": 5,
   "metadata": {},
   "outputs": [
    {
     "name": "stdout",
     "output_type": "stream",
     "text": [
      "sum\n",
      " [[ 3  1]\n",
      " [-3  7]]\n"
     ]
    }
   ],
   "source": [
    "sum=A+B\n",
    "print(\"sum\\n\",sum)"
   ]
  },
  {
   "cell_type": "markdown",
   "metadata": {},
   "source": [
    "#### b.AB\n"
   ]
  },
  {
   "cell_type": "code",
   "execution_count": 6,
   "metadata": {},
   "outputs": [
    {
     "name": "stdout",
     "output_type": "stream",
     "text": [
      "AB: \n",
      " [[ 5  0]\n",
      " [-9 12]]\n"
     ]
    }
   ],
   "source": [
    "product = np.dot(A,B)\n",
    "print(\"AB\\n\",product)"
   ]
  },
  {
   "cell_type": "markdown",
   "metadata": {},
   "source": [
    "#### c.3A-2B"
   ]
  },
  {
   "cell_type": "code",
   "execution_count": 8,
   "metadata": {},
   "outputs": [
    {
     "name": "stdout",
     "output_type": "stream",
     "text": [
      "3A-2B\n",
      " [[ 4 -7]\n",
      " [ 6  1]]\n"
     ]
    }
   ],
   "source": [
    "simplify = 3 * A - 2 * B\n",
    "print(\"3A-2B\\n\",simplify)"
   ]
  },
  {
   "cell_type": "markdown",
   "metadata": {},
   "source": [
    "# 2. Determinants and Inverses  "
   ]
  },
  {
   "cell_type": "code",
   "execution_count": 10,
   "metadata": {},
   "outputs": [
    {
     "name": "stdout",
     "output_type": "stream",
     "text": [
      "Determinant of A is\n",
      " 6.0\n"
     ]
    }
   ],
   "source": [
    "det_A = np.linalg.det(A)\n",
    "print(\"Determinant of A is\\n\",det_A)"
   ]
  },
  {
   "cell_type": "markdown",
   "metadata": {},
   "source": [
    "#### Determine whether A is invertible. If yes, calculate A−1."
   ]
  },
  {
   "cell_type": "code",
   "execution_count": 11,
   "metadata": {},
   "outputs": [
    {
     "name": "stdout",
     "output_type": "stream",
     "text": [
      "Yes the matrix A is invertible\n",
      "Invertible of A is :\n",
      " [[0.5        0.16666667]\n",
      " [0.         0.33333333]]\n"
     ]
    }
   ],
   "source": [
    "a = det_A\n",
    "if a != 0:\n",
    "    A_inv = True\n",
    "    print(\"Yes the matrix A is invertible\")\n",
    "else:\n",
    "    A_inv = False\n",
    "    print(\"No the matrix A is not invertible\")\n",
    "if A_inv:\n",
    "    inv_A= np.linalg.inv(A)\n",
    "    print(\"Invertible of A is :\\n\",inv_A)"
   ]
  },
  {
   "cell_type": "markdown",
   "metadata": {},
   "source": [
    "# Eigenvalues and Eigenvectors"
   ]
  },
  {
   "cell_type": "markdown",
   "metadata": {},
   "source": [
    "##### Compute the eigenvalues and eigenvectors of the matrix:"
   ]
  },
  {
   "cell_type": "code",
   "execution_count": 13,
   "metadata": {},
   "outputs": [
    {
     "name": "stdout",
     "output_type": "stream",
     "text": [
      "Eigenvectors of C is\n",
      " [3. 2.]\n",
      "Eigenvectors of C is\n",
      " [[ 0.70710678 -0.4472136 ]\n",
      " [-0.70710678  0.89442719]]\n"
     ]
    }
   ],
   "source": [
    "C = np.array([[4, 1], [-2, 1]])\n",
    "eigenvalues, eigenvectors = np.linalg.eig(C)\n",
    "print(\"Eigenvectors of C is\\n\", eigenvalues)\n",
    "print(\"Eigenvectors of C is\\n\", eigenvectors)"
   ]
  },
  {
   "cell_type": "markdown",
   "metadata": {},
   "source": [
    "###### \n",
    "You are given a dataset of cars with the following features:Number of cylinders (x1​)Engine size in liters (x2​)Horsepower (x3)\n",
    "\n",
    "car 1:\n",
    "\n",
    "x1: 4\n",
    "\n",
    "x2: 1.5\n",
    "\n",
    "x3: 100\n",
    "\n",
    "and price: 20\n",
    "\n",
    "car 2:\n",
    "\n",
    "x1: 6\n",
    "\n",
    "x2: 2.0\n",
    "\n",
    "x3: 150\n",
    "\n",
    "and price: 30\n",
    "\n",
    "Then, find the price of a car 3 with features x1: 8\n",
    "\n",
    "x2: 3.0\n",
    "\n",
    "x3: 200\n",
    "\n",
    "price:?"
   ]
  },
  {
   "cell_type": "code",
   "execution_count": 14,
   "metadata": {},
   "outputs": [
    {
     "name": "stdout",
     "output_type": "stream",
     "text": [
      "The estimated price of car 3: 40.000000000000696\n"
     ]
    }
   ],
   "source": [
    "X = np.array([[4, 1.5, 100], [6, 2.0, 150]])\n",
    "y = np.array([20, 30])\n",
    "beta = np.linalg.pinv(X.T @ X) @ X.T @ y\n",
    "car3 = np.array([8, 3.0, 200])\n",
    "price3 = car3 @ beta\n",
    "print(\"The estimated price of car 3:\", price3)"
   ]
  }
 ],
 "metadata": {
  "kernelspec": {
   "display_name": "Python 3",
   "language": "python",
   "name": "python3"
  },
  "language_info": {
   "codemirror_mode": {
    "name": "ipython",
    "version": 3
   },
   "file_extension": ".py",
   "mimetype": "text/x-python",
   "name": "python",
   "nbconvert_exporter": "python",
   "pygments_lexer": "ipython3",
   "version": "3.10.11"
  }
 },
 "nbformat": 4,
 "nbformat_minor": 2
}
